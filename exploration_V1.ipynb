{
 "cells": [
  {
   "cell_type": "code",
   "execution_count": 3,
   "metadata": {},
   "outputs": [],
   "source": [
    "import cv2, shutil"
   ]
  },
  {
   "cell_type": "code",
   "execution_count": 2,
   "metadata": {},
   "outputs": [],
   "source": [
    "import face_recognition"
   ]
  },
  {
   "cell_type": "code",
   "execution_count": 1,
   "metadata": {},
   "outputs": [
    {
     "name": "stderr",
     "output_type": "stream",
     "text": [
      "/usr/lib/python3.5/importlib/_bootstrap.py:222: RuntimeWarning: numpy.dtype size changed, may indicate binary incompatibility. Expected 96, got 88\n",
      "  return f(*args, **kwds)\n",
      "Using TensorFlow backend.\n",
      "/usr/lib/python3.5/importlib/_bootstrap.py:222: RuntimeWarning: numpy.dtype size changed, may indicate binary incompatibility. Expected 96, got 88\n",
      "  return f(*args, **kwds)\n",
      "/usr/lib/python3.5/importlib/_bootstrap.py:222: RuntimeWarning: numpy.dtype size changed, may indicate binary incompatibility. Expected 96, got 88\n",
      "  return f(*args, **kwds)\n"
     ]
    }
   ],
   "source": [
    "from mtcnn.mtcnn import MTCNN"
   ]
  },
  {
   "cell_type": "code",
   "execution_count": 2,
   "metadata": {},
   "outputs": [
    {
     "name": "stdout",
     "output_type": "stream",
     "text": [
      "WARNING:tensorflow:From /usr/local/lib/python3.5/dist-packages/keras/backend/tensorflow_backend.py:74: The name tf.get_default_graph is deprecated. Please use tf.compat.v1.get_default_graph instead.\n",
      "\n",
      "WARNING:tensorflow:From /usr/local/lib/python3.5/dist-packages/keras/backend/tensorflow_backend.py:517: The name tf.placeholder is deprecated. Please use tf.compat.v1.placeholder instead.\n",
      "\n",
      "WARNING:tensorflow:From /usr/local/lib/python3.5/dist-packages/keras/backend/tensorflow_backend.py:4138: The name tf.random_uniform is deprecated. Please use tf.random.uniform instead.\n",
      "\n",
      "WARNING:tensorflow:From /usr/local/lib/python3.5/dist-packages/keras/backend/tensorflow_backend.py:3976: The name tf.nn.max_pool is deprecated. Please use tf.nn.max_pool2d instead.\n",
      "\n",
      "WARNING:tensorflow:From /usr/local/lib/python3.5/dist-packages/keras/backend/tensorflow_backend.py:174: The name tf.get_default_session is deprecated. Please use tf.compat.v1.get_default_session instead.\n",
      "\n",
      "WARNING:tensorflow:From /usr/local/lib/python3.5/dist-packages/keras/backend/tensorflow_backend.py:181: The name tf.ConfigProto is deprecated. Please use tf.compat.v1.ConfigProto instead.\n",
      "\n"
     ]
    }
   ],
   "source": [
    "detector = MTCNN()"
   ]
  },
  {
   "cell_type": "code",
   "execution_count": null,
   "metadata": {},
   "outputs": [],
   "source": [
    "cap = cv2.VideoCapture('videos/salsa_cpp_cam1.avi', 0,)"
   ]
  },
  {
   "cell_type": "code",
   "execution_count": null,
   "metadata": {},
   "outputs": [],
   "source": [
    "face_locations = []"
   ]
  },
  {
   "cell_type": "code",
   "execution_count": null,
   "metadata": {},
   "outputs": [],
   "source": [
    "def get_face(img):\n",
    "    bb = detector.detect_faces(img)\n",
    "    bbs = []\n",
    "    for x in bb:\n",
    "        if x['confidence'] > 0.95:\n",
    "            x['size'] = x['box'][2]*x['box'][3]\n",
    "            bounding_box = x['box']\n",
    "            bbs.append((bounding_box[0], bounding_box[0]+bounding_box[2], bounding_box[1] + bounding_box[3], bounding_box[1]))\n",
    "\n",
    "    if len(bbs) == 0:\n",
    "        return []\n",
    "\n",
    "    return bbs"
   ]
  },
  {
   "cell_type": "code",
   "execution_count": null,
   "metadata": {},
   "outputs": [],
   "source": [
    "def detectFace(img):\n",
    "    bb = detector.detect_faces(img)\n",
    "    bbs = []\n",
    "    for x in bb:\n",
    "        if x['confidence'] > 0.985:\n",
    "            bbs.append(x)\n",
    "\n",
    "    if len(bbs) == 0:\n",
    "        return []\n",
    "\n",
    "    cropp = []\n",
    "    for i in range(len(bbs)):\n",
    "        bounding_box = bbs[i]['box']\n",
    "        h_adj = int(0.5*bounding_box[3])\n",
    "        w_adj = int(0.5*bounding_box[2])\n",
    "        cropp.append(img[max(bounding_box[1]-h_adj, 0):max(bounding_box[1]+bounding_box[3]+h_adj, 0), max(bounding_box[0]-w_adj, 0):max(bounding_box[0]+bounding_box[2]+w_adj,0)])\n",
    "    return cropp"
   ]
  },
  {
   "cell_type": "code",
   "execution_count": null,
   "metadata": {},
   "outputs": [],
   "source": [
    "ind = 0"
   ]
  },
  {
   "cell_type": "code",
   "execution_count": null,
   "metadata": {},
   "outputs": [],
   "source": [
    "import time\n",
    "st = time.time()"
   ]
  },
  {
   "cell_type": "code",
   "execution_count": null,
   "metadata": {},
   "outputs": [],
   "source": [
    "def writeToFolder(tup):\n",
    "    ret, rgb_frame = tup\n",
    "    face_locations = detectFace(rgb_frame)\n",
    "    ind = random.randint(1, 100000)\n",
    "    for fc in face_locations:\n",
    "        fil = 'cache/'+str(ind)+'.jpg'\n",
    "        cv2.imwrite(fil, fc)\n",
    "        shutil.move(fil, 'source/')\n",
    "    return 1"
   ]
  },
  {
   "cell_type": "code",
   "execution_count": null,
   "metadata": {},
   "outputs": [],
   "source": [
    "import random"
   ]
  },
  {
   "cell_type": "code",
   "execution_count": null,
   "metadata": {},
   "outputs": [],
   "source": [
    "writeToFolder(cap.read())"
   ]
  },
  {
   "cell_type": "code",
   "execution_count": null,
   "metadata": {},
   "outputs": [],
   "source": [
    "import multiprocessing as mp\n",
    "\n",
    "pool = mp.Pool(processes=4)"
   ]
  },
  {
   "cell_type": "code",
   "execution_count": null,
   "metadata": {},
   "outputs": [],
   "source": [
    "type(cap)"
   ]
  },
  {
   "cell_type": "code",
   "execution_count": null,
   "metadata": {},
   "outputs": [],
   "source": [
    "_ = pool.map(writeToFolder, cap.read())"
   ]
  },
  {
   "cell_type": "code",
   "execution_count": null,
   "metadata": {},
   "outputs": [],
   "source": [
    "%%time\n",
    "while True:\n",
    "    ret, frame = cap.read()\n",
    "    rgb_frame = frame[:, :, ::-1]\n",
    "    t = (rgb_frame, ind)\n",
    "    _  = pool.map(writeToFolder, t)\n",
    "    ind+=1"
   ]
  },
  {
   "cell_type": "code",
   "execution_count": null,
   "metadata": {},
   "outputs": [],
   "source": [
    "%%time\n",
    "while True:\n",
    "    ret, frame = cap.read()\n",
    "    rgb_frame = frame[:, :, ::-1]\n",
    "    \n",
    "    face_locations = detectFace(rgb_frame)\n",
    "    \n",
    "    for fc in face_locations:\n",
    "        fil = 'cache/'+str(ind)+'.jpg'\n",
    "        cv2.imwrite(fil, fc)\n",
    "        shutil.move(fil, 'source/')\n",
    "        ind += 1\n",
    "    if cv2.waitKey(25) == 13:\n",
    "        break\n"
   ]
  },
  {
   "cell_type": "code",
   "execution_count": 16,
   "metadata": {},
   "outputs": [],
   "source": [
    "import tensorflow"
   ]
  },
  {
   "cell_type": "code",
   "execution_count": 17,
   "metadata": {},
   "outputs": [
    {
     "data": {
      "text/plain": [
       "'1.14.0'"
      ]
     },
     "execution_count": 17,
     "metadata": {},
     "output_type": "execute_result"
    }
   ],
   "source": [
    "tensorflow.__version__"
   ]
  },
  {
   "cell_type": "code",
   "execution_count": null,
   "metadata": {},
   "outputs": [],
   "source": [
    "import multiprocessing as mp\n",
    "\n",
    "pool = mp.Pool(processes=4)"
   ]
  },
  {
   "cell_type": "code",
   "execution_count": null,
   "metadata": {},
   "outputs": [],
   "source": [
    "while True:\n",
    "    ret, frame = cap.read()\n",
    "    rgb_frame = frame[:, :, ::-1]\n",
    "        \n",
    "    face_locations = face_recognition.face_locations(rgb_frame)    \n",
    "    \n",
    "    for top, right, bottom, left in face_locations:\n",
    "        # Draw a box around the face\n",
    "        cv2.rectangle(frame, (left, top), (right, bottom), (0, 0, 255), 2)\n",
    "    cv2.imshow('Video', frame)"
   ]
  },
  {
   "cell_type": "code",
   "execution_count": null,
   "metadata": {},
   "outputs": [],
   "source": [
    "face_locations"
   ]
  },
  {
   "cell_type": "code",
   "execution_count": 5,
   "metadata": {},
   "outputs": [],
   "source": [
    "import matplotlib.pyplot as plt"
   ]
  },
  {
   "cell_type": "code",
   "execution_count": 9,
   "metadata": {},
   "outputs": [],
   "source": [
    "img = cv2.imread('photo-1568967729548-e3dbad3d37e0.jpeg')"
   ]
  },
  {
   "cell_type": "code",
   "execution_count": 11,
   "metadata": {},
   "outputs": [],
   "source": [
    "img = cv2.cvtColor(img, cv2.COLOR_BGR2RGB)"
   ]
  },
  {
   "cell_type": "code",
   "execution_count": 12,
   "metadata": {},
   "outputs": [
    {
     "data": {
      "text/plain": [
       "<matplotlib.image.AxesImage at 0x7f1a78227908>"
      ]
     },
     "execution_count": 12,
     "metadata": {},
     "output_type": "execute_result"
    },
    {
     "data": {
      "image/png": "[encoded data removed]",
      "text/plain": [
       "<Figure size 432x288 with 1 Axes>"
      ]
     },
     "metadata": {},
     "output_type": "display_data"
    }
   ],
   "source": [
    "plt.imshow(img)"
   ]
  },
  {
   "cell_type": "code",
   "execution_count": 15,
   "metadata": {},
   "outputs": [
    {
     "data": {
      "text/plain": [
       "numpy.ndarray"
      ]
     },
     "execution_count": 15,
     "metadata": {},
     "output_type": "execute_result"
    }
   ],
   "source": [
    "type(img)"
   ]
  },
  {
   "cell_type": "code",
   "execution_count": 8,
   "metadata": {},
   "outputs": [
    {
     "data": {
      "text/plain": [
       "[{'box': [306, 209, 578, 768],\n",
       "  'confidence': 0.9995055198669434,\n",
       "  'keypoints': {'left_eye': (446, 531),\n",
       "   'mouth_left': (490, 810),\n",
       "   'mouth_right': (701, 799),\n",
       "   'nose': (581, 704),\n",
       "   'right_eye': (718, 517)}}]"
      ]
     },
     "execution_count": 8,
     "metadata": {},
     "output_type": "execute_result"
    }
   ],
   "source": [
    "detector.detect_faces(img)"
   ]
  },
  {
   "cell_type": "code",
   "execution_count": 7,
   "metadata": {},
   "outputs": [
    {
     "name": "stdout",
     "output_type": "stream",
     "text": [
      "CPU times: user 590 ms, sys: 10.8 ms, total: 600 ms\n",
      "Wall time: 599 ms\n"
     ]
    }
   ],
   "source": [
    "%%time\n",
    "face_locations = face_recognition.face_locations(img)"
   ]
  },
  {
   "cell_type": "code",
   "execution_count": 9,
   "metadata": {
    "collapsed": true
   },
   "outputs": [
    {
     "data": {
      "text/plain": [
       "[{'bottom_lip': [(694, 804),\n",
       "   (660, 838),\n",
       "   (626, 857),\n",
       "   (594, 862),\n",
       "   (563, 862),\n",
       "   (529, 851),\n",
       "   (498, 819),\n",
       "   (516, 820),\n",
       "   (563, 817),\n",
       "   (592, 818),\n",
       "   (623, 812),\n",
       "   (676, 807)],\n",
       "  'chin': [(309, 533),\n",
       "   (318, 609),\n",
       "   (335, 682),\n",
       "   (351, 753),\n",
       "   (376, 822),\n",
       "   (416, 881),\n",
       "   (472, 928),\n",
       "   (536, 964),\n",
       "   (602, 974),\n",
       "   (667, 958),\n",
       "   (734, 918),\n",
       "   (793, 871),\n",
       "   (835, 810),\n",
       "   (856, 739),\n",
       "   (866, 663),\n",
       "   (875, 586),\n",
       "   (877, 507)],\n",
       "  'left_eye': [(396, 537),\n",
       "   (429, 515),\n",
       "   (472, 517),\n",
       "   (506, 550),\n",
       "   (468, 557),\n",
       "   (425, 556)],\n",
       "  'left_eyebrow': [(327, 485), (365, 456), (418, 453), (468, 463), (518, 484)],\n",
       "  'nose_bridge': [(577, 536), (578, 590), (579, 644), (580, 698)],\n",
       "  'nose_tip': [(535, 727), (558, 738), (585, 747), (611, 735), (635, 722)],\n",
       "  'right_eye': [(658, 539),\n",
       "   (691, 503),\n",
       "   (733, 499),\n",
       "   (767, 521),\n",
       "   (739, 541),\n",
       "   (697, 544)],\n",
       "  'right_eyebrow': [(631, 469),\n",
       "   (684, 443),\n",
       "   (737, 428),\n",
       "   (792, 432),\n",
       "   (833, 462)],\n",
       "  'top_lip': [(498, 819),\n",
       "   (530, 799),\n",
       "   (563, 788),\n",
       "   (591, 797),\n",
       "   (620, 785),\n",
       "   (655, 791),\n",
       "   (694, 804),\n",
       "   (676, 807),\n",
       "   (622, 814),\n",
       "   (592, 819),\n",
       "   (563, 817),\n",
       "   (516, 820)]}]"
      ]
     },
     "execution_count": 9,
     "metadata": {},
     "output_type": "execute_result"
    }
   ],
   "source": [
    "face_recognition.face_landmarks(img)"
   ]
  },
  {
   "cell_type": "code",
   "execution_count": null,
   "metadata": {},
   "outputs": [],
   "source": [
    "import time"
   ]
  },
  {
   "cell_type": "code",
   "execution_count": null,
   "metadata": {},
   "outputs": [],
   "source": [
    "st = time.time()\n",
    "for i in range(50):\n",
    "    bounding_box = get_face(img)[0]\n",
    "ed = time.time()    "
   ]
  },
  {
   "cell_type": "code",
   "execution_count": null,
   "metadata": {},
   "outputs": [],
   "source": [
    "ed-st"
   ]
  },
  {
   "cell_type": "code",
   "execution_count": null,
   "metadata": {},
   "outputs": [],
   "source": [
    "50/12.7"
   ]
  },
  {
   "cell_type": "code",
   "execution_count": null,
   "metadata": {},
   "outputs": [],
   "source": [
    "(bounding_box[0], bounding_box[0]+bounding_box[2], bounding_box[1] + bounding_box[3], bounding_box[1])"
   ]
  },
  {
   "cell_type": "code",
   "execution_count": null,
   "metadata": {},
   "outputs": [],
   "source": [
    "plt.imshow(img)"
   ]
  },
  {
   "cell_type": "code",
   "execution_count": null,
   "metadata": {},
   "outputs": [],
   "source": [
    "cap.release()\n",
    "cv2.destroyAllWindows()"
   ]
  },
  {
   "cell_type": "code",
   "execution_count": null,
   "metadata": {},
   "outputs": [],
   "source": []
  }
 ],
 "metadata": {
  "kernelspec": {
   "display_name": "Python 3",
   "language": "python",
   "name": "python3"
  },
  "language_info": {
   "codemirror_mode": {
    "name": "ipython",
    "version": 3
   },
   "file_extension": ".py",
   "mimetype": "text/x-python",
   "name": "python",
   "nbconvert_exporter": "python",
   "pygments_lexer": "ipython3",
   "version": "3.5.2"
  }
 },
 "nbformat": 4,
 "nbformat_minor": 2
}
